{
 "cells": [
  {
   "cell_type": "code",
   "execution_count": 20,
   "metadata": {},
   "outputs": [],
   "source": [
    "import pandas as pd\n",
    "import numpy as np"
   ]
  },
  {
   "cell_type": "code",
   "execution_count": 21,
   "metadata": {},
   "outputs": [],
   "source": [
    "class Bayes_Classifier:\n",
    "    def __init__(self, genero, idade, escolaridade, profissao, target):\n",
    "        self.genero = genero\n",
    "        self.idade = idade\n",
    "        self.escolaridade = escolaridade\n",
    "        self.profissao = profissao\n",
    "        self.target = target\n",
    "        self.carrega_tabela(\"naive-bayes-classificador-2.csv\")\n",
    "\n",
    "    def carrega_tabela(self, tabela):\n",
    "        self.csv = pd.read_csv(tabela, sep=',')\n",
    "\n",
    "    def calculate_prior(self, Y):\n",
    "        tabela = self.csv\n",
    "        classes = sorted(list(tabela[Y].unique()))\n",
    "        prior = []\n",
    "        for i in classes:\n",
    "            prior.append(len(tabela[tabela[Y]==i])/len(tabela))\n",
    "        return prior\n",
    "\n",
    "    def calculate_likelihood_gaussian(self, feat_name, feat_val, Y, label):\n",
    "        tabela = self.csv\n",
    "        feat = list(tabela.columns)\n",
    "        tabela = tabela[tabela[Y]==label]\n",
    "        mean, std = tabela[feat_name].mean(), tabela[feat_name].std()\n",
    "        p_x_given_y = (1 / (np.sqrt(2 * np.pi) * std)) *  np.exp(-((feat_val-mean)**2 / (2 * std**2 )))\n",
    "        return p_x_given_y\n",
    "\n",
    "    def naive_bayes_gaussian(self, X, Y):\n",
    "        tabela = self.csv\n",
    "        # get feature names\n",
    "        features = list(tabela.columns)[:-1]\n",
    "\n",
    "        # calculate prior\n",
    "        prior = self.calculate_prior(Y)\n",
    "\n",
    "        Y_pred = []\n",
    "        # loop over every data sample\n",
    "        for x in X:\n",
    "            # calculate likelihood\n",
    "            labels = sorted(list(tabela[Y].unique()))\n",
    "            likelihood = [1]*len(labels)\n",
    "            for j in range(len(labels)):\n",
    "                for i in range(len(features)):\n",
    "                    likelihood[j] *= self.calculate_likelihood_gaussian(features[i], x[i], Y, labels[j])\n",
    "\n",
    "            # calculate posterior probability (numerator only)\n",
    "            post_prob = [1]*len(labels)\n",
    "            for j in range(len(labels)):\n",
    "                post_prob[j] = likelihood[j] * prior[j]\n",
    "\n",
    "            Y_pred.append(np.argmax(post_prob))\n",
    "\n",
    "        return np.array(Y_pred)"
   ]
  },
  {
   "cell_type": "code",
   "execution_count": 19,
   "metadata": {},
   "outputs": [
    {
     "name": "stdout",
     "output_type": "stream",
     "text": [
      "  genero             idade escolaridade profissao  target\n",
      "0      F  a - Ate 25 anos   Fundamental         b       0\n",
      "1      M  a - Ate 25 anos         Medio         d       1\n",
      "2      F  c - 36 a 45 anos  Fundamental         a       1\n",
      "3      M  d - 46 a 55 anos  Fundamental         a       0\n",
      "4      F  c - 36 a 45 anos  Fundamental         b       1\n"
     ]
    }
   ],
   "source": [
    "a = Bayes_Classifier(\"F\",\"a - Ate 25 anos \",\"Fundamental\",\"b\",0)\n",
    "print(a.csv.head())"
   ]
  },
  {
   "cell_type": "code",
   "execution_count": 10,
   "metadata": {},
   "outputs": [
    {
     "name": "stdout",
     "output_type": "stream",
     "text": [
      "AxesSubplot(0.125,0.125;0.775x0.755)\n"
     ]
    },
    {
     "data": {
      "image/png": "[encoded data removed]",
      "text/plain": [
       "<Figure size 432x288 with 1 Axes>"
      ]
     },
     "metadata": {
      "needs_background": "light"
     },
     "output_type": "display_data"
    }
   ],
   "source": [
    "print(a.csv['genero'].hist())"
   ]
  },
  {
   "cell_type": "code",
   "execution_count": 11,
   "metadata": {},
   "outputs": [
    {
     "name": "stdout",
     "output_type": "stream",
     "text": [
      "AxesSubplot(0.125,0.125;0.775x0.755)\n"
     ]
    },
    {
     "data": {
      "image/png": "[encoded data removed]",
      "text/plain": [
       "<Figure size 432x288 with 1 Axes>"
      ]
     },
     "metadata": {
      "needs_background": "light"
     },
     "output_type": "display_data"
    }
   ],
   "source": [
    "print(a.csv['idade'].hist())\n"
   ]
  },
  {
   "cell_type": "code",
   "execution_count": 12,
   "metadata": {},
   "outputs": [
    {
     "name": "stdout",
     "output_type": "stream",
     "text": [
      "AxesSubplot(0.125,0.125;0.775x0.755)\n"
     ]
    },
    {
     "data": {
      "image/png": "[encoded data removed]",
      "text/plain": [
       "<Figure size 432x288 with 1 Axes>"
      ]
     },
     "metadata": {
      "needs_background": "light"
     },
     "output_type": "display_data"
    }
   ],
   "source": [
    "print(a.csv['escolaridade'].hist())\n"
   ]
  },
  {
   "cell_type": "code",
   "execution_count": 13,
   "metadata": {},
   "outputs": [
    {
     "name": "stdout",
     "output_type": "stream",
     "text": [
      "AxesSubplot(0.125,0.125;0.775x0.755)\n"
     ]
    },
    {
     "data": {
      "image/png": "[encoded data removed]",
      "text/plain": [
       "<Figure size 432x288 with 1 Axes>"
      ]
     },
     "metadata": {
      "needs_background": "light"
     },
     "output_type": "display_data"
    }
   ],
   "source": [
    "print(a.csv['profissao'].hist())\n"
   ]
  },
  {
   "cell_type": "code",
   "execution_count": 14,
   "metadata": {},
   "outputs": [
    {
     "name": "stdout",
     "output_type": "stream",
     "text": [
      "AxesSubplot(0.125,0.125;0.775x0.755)\n"
     ]
    },
    {
     "data": {
      "image/png": "[encoded data removed]",
      "text/plain": [
       "<Figure size 432x288 with 1 Axes>"
      ]
     },
     "metadata": {
      "needs_background": "light"
     },
     "output_type": "display_data"
    }
   ],
   "source": [
    "print(a.csv['target'].hist())"
   ]
  }
 ],
 "metadata": {
  "interpreter": {
   "hash": "96068ab639a04010ce0ebf4d92aa5fa1d95945955db043eb093ed651d9ac7c11"
  },
  "kernelspec": {
   "display_name": "Python 3.8.3 64-bit ('base': conda)",
   "name": "python3"
  },
  "language_info": {
   "codemirror_mode": {
    "name": "ipython",
    "version": 3
   },
   "file_extension": ".py",
   "mimetype": "text/x-python",
   "name": "python",
   "nbconvert_exporter": "python",
   "pygments_lexer": "ipython3",
   "version": "3.8.3"
  },
  "orig_nbformat": 4
 },
 "nbformat": 4,
 "nbformat_minor": 2
}
