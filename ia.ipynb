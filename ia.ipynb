{
 "cells": [
  {
   "cell_type": "code",
   "execution_count": 1,
   "metadata": {},
   "outputs": [],
   "source": [
    "import pandas as pd\n",
    "import numpy as np"
   ]
  },
  {
   "cell_type": "code",
   "execution_count": 2,
   "metadata": {},
   "outputs": [],
   "source": [
    "class Bayes_Classifier:\n",
    "    def __init__(self, genero, idade, escolaridade, profissao, target):\n",
    "        self.genero = genero\n",
    "        self.idade = idade\n",
    "        self.escolaridade = escolaridade\n",
    "        self.profissao = profissao\n",
    "        self.target = target\n",
    "        self.carrega_tabela(\"naive-bayes-classificador-2.csv\")\n",
    "\n",
    "    def carrega_tabela(self, tabela):\n",
    "        self.csv = pd.read_csv(tabela, sep=',')\n",
    "\n",
    "    def calculate_prior(self, Y):\n",
    "        tabela = self.csv\n",
    "        classes = sorted(list(tabela[Y].unique()))\n",
    "        prior = []\n",
    "        for i in classes:\n",
    "            prior.append(len(tabela[tabela[Y]==i])/len(tabela))\n",
    "        return prior\n",
    "    \n",
    "    def likelihood(self, Y, label, target, value_target):\n",
    "        tabela = self.csv\n",
    "        tabela = tabela[tabela[target]==value_target]\n",
    "        total_target = len(tabela[target])\n",
    "        tabela = tabela[tabela[Y]==label]\n",
    "        total_Y = len(tabela[Y])\n",
    "        result = total_Y/total_target\n",
    "        print(result)\n",
    "\n",
    "        return tabela\n",
    "\n",
    "    def calculate_likelihood_gaussian(self, feat_name, X, Y, label):\n",
    "        \"\"\"\n",
    "            feat_name: target\n",
    "            X: valor a testar\n",
    "            Y: tabela selecionada\n",
    "            label: preditor\n",
    "        \"\"\"\n",
    "        tabela = self.csv\n",
    "        feat = list(tabela.columns)\n",
    "\n",
    "        tabela = tabela[tabela[Y]==label]\n",
    "        media, desv_pad = tabela[feat_name].mean(), tabela[feat_name].std()\n",
    "\n",
    "        # função de densidade\n",
    "        p_x_given_y = (1 / (np.sqrt(2 * np.pi) * (desv_pad**2))) *  np.exp(-((X-media)**2 / (2 * desv_pad**2 )))\n",
    "        return p_x_given_y\n",
    "\n",
    "    def naive_bayes_gaussian(self, X, Y):\n",
    "        \"\"\"\n",
    "            feat_name: target\n",
    "            X: valor a testar\n",
    "            Y: tabela selecionada\n",
    "            label: preditor\n",
    "        \"\"\"\n",
    "        tabela = self.csv\n",
    "        # get feature names\n",
    "        features = list(tabela.columns)[:-1]\n",
    "\n",
    "        # calculate prior\n",
    "        prior = self.calculate_prior(Y)\n",
    "\n",
    "        Y_pred = []\n",
    "        # loop over every data sample\n",
    "        for x in X:\n",
    "            # calculate likelihood\n",
    "            labels = sorted(list(tabela[Y].unique()))\n",
    "            likelihood = [1]*len(labels)\n",
    "            for j in range(len(labels)):\n",
    "                for i in range(len(features)):\n",
    "                    likelihood[j] *= self.calculate_likelihood_gaussian(features[i], x[i], Y, labels[j])\n",
    "\n",
    "            # calculate posterior probability (numerator only)\n",
    "            post_prob = [1]*len(labels)\n",
    "            for j in range(len(labels)):\n",
    "                post_prob[j] = likelihood[j] * prior[j]\n",
    "\n",
    "            Y_pred.append(np.argmax(post_prob))\n",
    "\n",
    "        return np.array(Y_pred)"
   ]
  },
  {
   "cell_type": "code",
   "execution_count": 3,
   "metadata": {},
   "outputs": [
    {
     "name": "stdout",
     "output_type": "stream",
     "text": [
      "0.3082901554404145\n",
      "    genero             idade escolaridade profissao  target\n",
      "1        M   a - Ate 25 anos        Medio         d       1\n",
      "20       F  b - 26 a 35 anos        Medio         a       1\n",
      "21       M  b - 26 a 35 anos        Medio         b       1\n",
      "22       M   a - Ate 25 anos        Medio         b       1\n",
      "25       F  c - 36 a 45 anos        Medio         b       1\n",
      "..     ...               ...          ...       ...     ...\n",
      "982      M  d - 46 a 55 anos        Medio         e       1\n",
      "990      F  b - 26 a 35 anos        Medio         a       1\n",
      "993      F   a - Ate 25 anos        Medio         b       1\n",
      "997      M  b - 26 a 35 anos        Medio         b       1\n",
      "999      F  b - 26 a 35 anos        Medio         c       1\n",
      "\n",
      "[238 rows x 5 columns]\n"
     ]
    }
   ],
   "source": [
    "a = Bayes_Classifier(\"F\",\"a - Ate 25 anos \",\"Fundamental\",\"b\",0)\n",
    "print(a.likelihood(\"escolaridade\", \"Medio\", \"target\", 1))\n"
   ]
  },
  {
   "cell_type": "code",
   "execution_count": 4,
   "metadata": {},
   "outputs": [
    {
     "name": "stdout",
     "output_type": "stream",
     "text": [
      "AxesSubplot(0.125,0.125;0.775x0.755)\n",
      "genero [0.583, 0.417]\n"
     ]
    },
    {
     "data": {
      "image/png": "[encoded data removed]",
      "text/plain": [
       "<Figure size 432x288 with 1 Axes>"
      ]
     },
     "metadata": {
      "needs_background": "light"
     },
     "output_type": "display_data"
    }
   ],
   "source": [
    "print(a.csv['genero'].hist())\n",
    "print('genero', a.calculate_prior('genero'))"
   ]
  },
  {
   "cell_type": "code",
   "execution_count": 5,
   "metadata": {},
   "outputs": [
    {
     "name": "stdout",
     "output_type": "stream",
     "text": [
      "AxesSubplot(0.125,0.125;0.775x0.755)\n",
      "idade [0.208, 0.297, 0.245, 0.141, 0.109]\n"
     ]
    },
    {
     "data": {
      "image/png": "[encoded data removed]",
      "text/plain": [
       "<Figure size 432x288 with 1 Axes>"
      ]
     },
     "metadata": {
      "needs_background": "light"
     },
     "output_type": "display_data"
    }
   ],
   "source": [
    "print(a.csv['idade'].hist())\n",
    "print('idade', a.calculate_prior('idade'))"
   ]
  },
  {
   "cell_type": "code",
   "execution_count": 6,
   "metadata": {},
   "outputs": [
    {
     "name": "stdout",
     "output_type": "stream",
     "text": [
      "AxesSubplot(0.125,0.125;0.775x0.755)\n",
      "escolaridade [0.501, 0.301, 0.048, 0.15]\n"
     ]
    },
    {
     "data": {
      "image/png": "[encoded data removed]",
      "text/plain": [
       "<Figure size 432x288 with 1 Axes>"
      ]
     },
     "metadata": {
      "needs_background": "light"
     },
     "output_type": "display_data"
    }
   ],
   "source": [
    "print(a.csv['escolaridade'].hist())\n",
    "print('escolaridade', a.calculate_prior('escolaridade'))"
   ]
  },
  {
   "cell_type": "code",
   "execution_count": 7,
   "metadata": {},
   "outputs": [
    {
     "name": "stdout",
     "output_type": "stream",
     "text": [
      "AxesSubplot(0.125,0.125;0.775x0.755)\n",
      "profissao [0.399, 0.423, 0.065, 0.069, 0.044]\n"
     ]
    },
    {
     "data": {
      "image/png": "[encoded data removed]",
      "text/plain": [
       "<Figure size 432x288 with 1 Axes>"
      ]
     },
     "metadata": {
      "needs_background": "light"
     },
     "output_type": "display_data"
    }
   ],
   "source": [
    "print(a.csv['profissao'].hist())\n",
    "print('profissao', a.calculate_prior('profissao'))"
   ]
  },
  {
   "cell_type": "code",
   "execution_count": 8,
   "metadata": {},
   "outputs": [
    {
     "name": "stdout",
     "output_type": "stream",
     "text": [
      "AxesSubplot(0.125,0.125;0.775x0.755)\n",
      "target [0.228, 0.772]\n"
     ]
    },
    {
     "data": {
      "image/png": "[encoded data removed]",
      "text/plain": [
       "<Figure size 432x288 with 1 Axes>"
      ]
     },
     "metadata": {
      "needs_background": "light"
     },
     "output_type": "display_data"
    }
   ],
   "source": [
    "print(a.csv['target'].hist())\n",
    "print('target', a.calculate_prior('target'))"
   ]
  }
 ],
 "metadata": {
  "interpreter": {
   "hash": "96068ab639a04010ce0ebf4d92aa5fa1d95945955db043eb093ed651d9ac7c11"
  },
  "kernelspec": {
   "display_name": "Python 3.8.3 64-bit ('base': conda)",
   "name": "python3"
  },
  "language_info": {
   "codemirror_mode": {
    "name": "ipython",
    "version": 3
   },
   "file_extension": ".py",
   "mimetype": "text/x-python",
   "name": "python",
   "nbconvert_exporter": "python",
   "pygments_lexer": "ipython3",
   "version": "3.8.3"
  },
  "orig_nbformat": 4
 },
 "nbformat": 4,
 "nbformat_minor": 2
}
