{
 "cells": [
  {
   "cell_type": "code",
   "execution_count": 3,
   "metadata": {},
   "outputs": [],
   "source": [
    "import pandas as pd\n",
    "import numpy as np"
   ]
  },
  {
   "cell_type": "code",
   "execution_count": 6,
   "metadata": {},
   "outputs": [],
   "source": [
    "class Bayes_Classifier:\n",
    "    def __init__(self, outlook, temp, humidity, windy, play_golf):\n",
    "        self.outlook = outlook\n",
    "        self.temp = temp\n",
    "        self.humidity = humidity\n",
    "        self.windy = windy\n",
    "        self.play_golf = play_golf\n",
    "        self.carrega_tabela(\"exemplo.csv\")\n",
    "\n",
    "    def carrega_tabela(self, tabela):\n",
    "        self.csv = pd.read_csv(tabela, sep=',')\n",
    "    \n",
    "    def likelihood(self, target, value_target):\n",
    "        tabela = self.csv\n",
    "        total_target_total = len(tabela[target])\n",
    "        tabela = tabela[tabela[target]==value_target]\n",
    "        total_target = len(tabela[target])\n",
    "        print(total_target/total_target_total)\n",
    "        \n",
    "        \n",
    "        # tabela = tabela[tabela[Y]==label]\n",
    "        # total_Y = len(tabela[Y])\n",
    "        # result = total_Y/total_target\n",
    "        # print(result)\n",
    "\n",
    "        # return tabela\n",
    "    def calculate_likelihood_gaussian(self, feat_name, X, Y, label):\n",
    "        \"\"\"\n",
    "            feat_name: target\n",
    "            X: valor a testar\n",
    "            Y: tabela selecionada\n",
    "            label: preditor\n",
    "        \"\"\"\n",
    "        tabela = self.csv\n",
    "        feat = list(tabela.columns)\n",
    "\n",
    "        tabela = tabela[tabela[Y]==label]\n",
    "        media, desv_pad = tabela[feat_name].mean(), tabela[feat_name].std()\n",
    "\n",
    "        # função de densidade\n",
    "        p_x_given_y = (1 / (np.sqrt(2 * np.pi) * (desv_pad**2))) *  np.exp(-((X-media)**2 / (2 * desv_pad**2 )))\n",
    "        return p_x_given_y\n",
    "\n",
    "    def naive_bayes_gaussian(self, X, Y):\n",
    "        \"\"\"\n",
    "            feat_name: target\n",
    "            X: valor a testar\n",
    "            Y: tabela selecionada\n",
    "            label: preditor\n",
    "        \"\"\"\n",
    "        tabela = self.csv\n",
    "        # get feature names\n",
    "        features = list(tabela.columns)[:-1]\n",
    "\n",
    "        # calculate prior\n",
    "        prior = self.calculate_prior(Y)\n",
    "\n",
    "        Y_pred = []\n",
    "        # loop over every data sample\n",
    "        for x in X:\n",
    "            # calculate likelihood\n",
    "            labels = sorted(list(tabela[Y].unique()))\n",
    "            likelihood = [1]*len(labels)\n",
    "            for j in range(len(labels)):\n",
    "                for i in range(len(features)):\n",
    "                    likelihood[j] *= self.calculate_likelihood_gaussian(features[i], x[i], Y, labels[j])\n",
    "\n",
    "            # calculate posterior probability (numerator only)\n",
    "            post_prob = [1]*len(labels)\n",
    "            for j in range(len(labels)):\n",
    "                post_prob[j] = likelihood[j] * prior[j]\n",
    "\n",
    "            Y_pred.append(np.argmax(post_prob))\n",
    "\n",
    "        return np.array(Y_pred)"
   ]
  },
  {
   "cell_type": "code",
   "execution_count": 8,
   "metadata": {},
   "outputs": [
    {
     "name": "stdout",
     "output_type": "stream",
     "text": [
      "0.35714285714285715\n",
      "0.35714285714285715\n"
     ]
    }
   ],
   "source": [
    "a = Bayes_Classifier(\"Rainy\",\"Hot\",\"High\",\"False\",\"No\")\n",
    "a.likelihood(\"Outlook\",\"Rainy\")\n"
   ]
  }
 ],
 "metadata": {
  "interpreter": {
   "hash": "96068ab639a04010ce0ebf4d92aa5fa1d95945955db043eb093ed651d9ac7c11"
  },
  "kernelspec": {
   "display_name": "Python 3.8.3 64-bit ('base': conda)",
   "name": "python3"
  },
  "language_info": {
   "codemirror_mode": {
    "name": "ipython",
    "version": 3
   },
   "file_extension": ".py",
   "mimetype": "text/x-python",
   "name": "python",
   "nbconvert_exporter": "python",
   "pygments_lexer": "ipython3",
   "version": "3.8.3"
  },
  "orig_nbformat": 4
 },
 "nbformat": 4,
 "nbformat_minor": 2
}
