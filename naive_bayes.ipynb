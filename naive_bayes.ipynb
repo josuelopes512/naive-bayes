{
  "cells": [
    {
      "cell_type": "markdown",
      "metadata": {
        "colab_type": "text",
        "id": "view-in-github"
      },
      "source": [
        "<a href=\"https://colab.research.google.com/github/josuelopes512/naive-bayes/blob/master/naive_bayes.ipynb\" target=\"_parent\"><img src=\"https://colab.research.google.com/assets/colab-badge.svg\" alt=\"Open In Colab\"/></a>"
      ]
    },
    {
      "cell_type": "code",
      "execution_count": 1,
      "metadata": {
        "id": "eGRD-c6u_z4b"
      },
      "outputs": [],
      "source": [
        "import numpy as np\n",
        "import pandas as pd\n",
        "import seaborn as sn\n",
        "import matplotlib.pyplot as plt\n",
        "from random import choice"
      ]
    },
    {
      "cell_type": "code",
      "execution_count": 2,
      "metadata": {
        "id": "Gs8cN2rS_z4g"
      },
      "outputs": [],
      "source": [
        "class Bayes_Classifier:\n",
        "    def __init__(self) -> None:\n",
        "      pass\n",
        "    \n",
        "    def __init__(self, *args, **kwargs):\n",
        "      self.carrega_tabela(\"naive_bayes_classificador.csv\")\n",
        "      self.outlook = self.probability_select_class(kwargs.get('outlook', args[0]), 'Target', kwargs.get(\"play_golf\", args[4]))[1]\n",
        "      self.temp = self.probability_select_class(kwargs.get('temp', args[1]), 'Target', kwargs.get(\"play_golf\", args[4]))[1]\n",
        "      self.humidity = self.probability_select_class(kwargs.get('humidity', args[2]), 'Target', kwargs.get(\"play_golf\", args[4]))[1]\n",
        "      self.windy = self.probability_select_class(kwargs.get('windy', args[3]), 'Target', kwargs.get(\"play_golf\", args[4]))[1]\n",
        "      self.play_golf = self.calculate_prior('Target')[0][kwargs.get(\"play_golf\", args[4])]\n",
        "\n",
        "    def carrega_tabela(self, tabela):\n",
        "      self.csv = pd.read_csv(tabela, sep=',')\n",
        "\n",
        "    def view_table(self):\n",
        "      return self.csv\n",
        "    \n",
        "    def probability_select_class(self, label, prob_target, value_target):\n",
        "      tabela = self.csv\n",
        "      prob_nome_coluna = None\n",
        "      for i in list(tabela.columns):\n",
        "        if label in sorted(list(tabela[i].unique())):\n",
        "          prob_nome_coluna = i\n",
        "      tabelax = tabela[tabela[prob_nome_coluna]==label]\n",
        "      k = tabelax[prob_target]\n",
        "      x = tabela[tabela[prob_target]==value_target]\n",
        "      calc = len(tabelax[k==value_target])/len(x) if len(tabelax[k==value_target]) != 0 else (len(tabelax[k==value_target]) + 1)/(len(x) + 3)\n",
        "      return (tabelax, calc, len(tabelax[k==value_target]), len(x))\n",
        "\n",
        "    def calculate_prior(self, Y):\n",
        "      tabela = self.csv\n",
        "      classes = sorted(list(tabela[Y].unique()))\n",
        "      new_dic = dict()\n",
        "      for i in classes:\n",
        "        new_dic.update({\n",
        "            i: len(tabela[tabela[Y]==i])/len(tabela)\n",
        "      })\n",
        "      return new_dic, tabela\n",
        "    \n",
        "    def result_probability(self):\n",
        "      return (self.outlook*self.temp*self.humidity*self.windy*self.play_golf)\n"
      ]
    },
    {
      "cell_type": "code",
      "execution_count": 3,
      "metadata": {},
      "outputs": [],
      "source": [
        "class Calc_prob:\n",
        "    def __init__(self, genero, idade, escolaridade, profissao):\n",
        "        self.bayes_classify_yes = Bayes_Classifier(genero, idade, escolaridade, profissao, 1)\n",
        "        self.bayes_classify_no = Bayes_Classifier(genero, idade, escolaridade, profissao, 0)\n",
        "        self.result_prob_yes = self.bayes_classify_yes.result_probability()\n",
        "        self.result_prob_no = self.bayes_classify_no.result_probability()\n",
        "        self.table = self.bayes_classify_no.view_table()\n",
        "        self.final_probabilty = {\n",
        "            \"YES\": self.calc_prob(self.result_prob_yes, self.result_prob_no), \n",
        "            \"NO\" : self.calc_prob(self.result_prob_no, self.result_prob_yes)\n",
        "        }\n",
        "        self.lists = self.sorted_list()\n",
        "\n",
        "    def calc_prob(self, a, b):\n",
        "        return a/(a+b)\n",
        "\n",
        "    def sorted_list(self):\n",
        "        k = dict()\n",
        "        for i in list(self.table.columns):\n",
        "            k.update({i: []})\n",
        "            for j in sorted(list(self.table[i].unique())):\n",
        "                k[i].append(j)\n",
        "        return k\n",
        "    \n",
        "    def rand_values_reals(self):\n",
        "        x = {0: [], 1: [], 'targets': []}\n",
        "        count = 0\n",
        "        while count < 200:\n",
        "            a = self.table.loc[choice([i for i in range(len(self.table.index))])]\n",
        "            xk = []\n",
        "            for i in list(self.table.columns):\n",
        "                xk.append(a[i])\n",
        "            b = Bayes_Classifier(*xk).result_probability()\n",
        "            x[xk[-1]].append(b)\n",
        "            x['targets'].append(xk[-1])\n",
        "            count +=1\n",
        "        return x\n",
        "\n",
        "    def rand_probability_predict(self):\n",
        "        x = {0: [], 1: [], 'targets': []}\n",
        "        cont = 0\n",
        "        while cont < 200:\n",
        "            genero = choice(self.lists['Genero'])\n",
        "            idade = choice(self.lists['Idade'])\n",
        "            escolaridade = choice(self.lists['Escolaridade'])\n",
        "            profissao = choice(self.lists['Profissao'])\n",
        "            target = choice(self.lists['Target'])\n",
        "            k = Bayes_Classifier(genero, idade, escolaridade, profissao, target).result_probability()\n",
        "            x[target].append(k)\n",
        "            x['targets'].append(target)\n",
        "            cont += 1\n",
        "        return x\n",
        "\n",
        "    def get_confusion_matrix(self):\n",
        "        reais = self.rand_values_reals()['targets']\n",
        "        preditos = self.rand_probability_predict()['targets']\n",
        "        labels = list(self.table['Target'].unique())\n",
        "\n",
        "        # não implementado\n",
        "        if len(labels) > 2:\n",
        "            return None\n",
        "\n",
        "        if len(reais) != len(preditos):\n",
        "            return None\n",
        "        \n",
        "        # considerando a primeira classe como a positiva, e a segunda a negativa\n",
        "        true_class = labels[0]\n",
        "        negative_class = labels[1]\n",
        "\n",
        "        # valores preditos corretamente\n",
        "        tp = 0\n",
        "        tn = 0\n",
        "        \n",
        "        # valores preditos incorretamente\n",
        "        fp = 0\n",
        "        fn = 0\n",
        "        \n",
        "        for (indice, v_real) in enumerate(reais):\n",
        "            v_predito = preditos[indice]\n",
        "\n",
        "            # se trata de um valor real da classe positiva\n",
        "            if v_real == true_class:\n",
        "                tp += 1 if v_predito == v_real else 0\n",
        "                fp += 1 if v_predito != v_real else 0\n",
        "            else:\n",
        "                tn += 1 if v_predito == v_real else 0\n",
        "                fn += 1 if v_predito != v_real else 0\n",
        "        \n",
        "        return np.array([\n",
        "            # valores da classe positiva\n",
        "            [ tp, fp ],\n",
        "            # valores da classe negativa\n",
        "            [ fn, tn ]\n",
        "        ])\n",
        "\n",
        "    def acuracia(self, matriz):\n",
        "        predicoes_corretas = matriz[0][0] + matriz[1][1]\n",
        "        totas_as_predicoes = matriz[0][0] + matriz[0][1] + matriz[1][0] + matriz[1][1]\n",
        "        return predicoes_corretas/totas_as_predicoes\n",
        "\n",
        "    def recall(self, matriz):\n",
        "        tp = matriz[0][0]\n",
        "        tp_fn = matriz[0][0] + matriz[1][0]\n",
        "        return tp/tp_fn\n",
        "    \n",
        "    def precisao(self, matriz):\n",
        "        tp = matriz[0][0]\n",
        "        tp_fp = matriz[0][0] + matriz[0][1]\n",
        "        tn  = matriz[1][1]\n",
        "        tn_fn = matriz[1][1] + matriz[1][0]\n",
        "        return {'True': tp/tp_fp, 'Negative': tn/tn_fn}\n",
        "    \n",
        "    def f1_score(self, matriz):\n",
        "        precisao = self.precisao(matriz)['True']\n",
        "        recall = self.recall(matriz)\n",
        "\n",
        "        return 2*((precisao*recall)/(precisao+recall))\n"
      ]
    },
    {
      "cell_type": "code",
      "execution_count": 4,
      "metadata": {},
      "outputs": [
        {
          "name": "stdout",
          "output_type": "stream",
          "text": [
            "Matriz de Confusão: [[19 28]\n",
            " [67 86]]\n",
            "Acuracia 0.525\n",
            "Precisão {'True': 0.40425531914893614, 'Negative': 0.5620915032679739}\n",
            "f1_score 0.2857142857142857\n",
            "recall 0.22093023255813954\n"
          ]
        }
      ],
      "source": [
        "k = Calc_prob(\"F\",\"a - Ate 25 anos\",\"Fundamental\",\"b\")\n",
        "x = k.get_confusion_matrix()\n",
        "print('Matriz de Confusão: \\n{}'.format(x))\n",
        "print('Acuracia: {}'.format(k.acuracia(x)))\n",
        "print('Precisão: {}'.format(k.precisao(x)))\n",
        "print('f1_score: {}'.format(k.f1_score(x)))\n",
        "print('recall: {}'.format(k.recall(x)))"
      ]
    },
    {
      "cell_type": "code",
      "execution_count": 5,
      "metadata": {},
      "outputs": [
        {
          "data": {
            "text/plain": [
              "<matplotlib.axes._subplots.AxesSubplot at 0x1ba93df7400>"
            ]
          },
          "execution_count": 5,
          "metadata": {},
          "output_type": "execute_result"
        },
        {
          "data": {
            "image/png": "[encoded data removed]",
            "text/plain": [
              "<Figure size 432x288 with 2 Axes>"
            ]
          },
          "metadata": {},
          "output_type": "display_data"
        }
      ],
      "source": [
        "df = pd.DataFrame(x, range(2), range(2))\n",
        "sn.set(font_scale=1.4)\n",
        "sn.heatmap(df, annot=True,annot_kws={\"size\": 16})"
      ]
    },
    {
      "cell_type": "code",
      "execution_count": 6,
      "metadata": {
        "colab": {
          "base_uri": "https://localhost:8080/",
          "height": 299
        },
        "id": "bEYIFQ3y_z4l",
        "outputId": "0ebe54ec-9e96-4adb-c4f3-fad81392e149"
      },
      "outputs": [
        {
          "name": "stdout",
          "output_type": "stream",
          "text": [
            "Index(['Genero', 'Idade', 'Escolaridade', 'Profissao', 'Target'], dtype='object')\n",
            "AxesSubplot(0.125,0.125;0.775x0.755)\n"
          ]
        },
        {
          "data": {
            "image/png": "[encoded data removed]",
            "text/plain": [
              "<Figure size 432x288 with 1 Axes>"
            ]
          },
          "metadata": {},
          "output_type": "display_data"
        }
      ],
      "source": [
        "print(k.table.columns)\n",
        "print(k.table['Genero'].hist())"
      ]
    },
    {
      "cell_type": "code",
      "execution_count": 7,
      "metadata": {
        "colab": {
          "base_uri": "https://localhost:8080/",
          "height": 282
        },
        "id": "Gi9_DE08_z4l",
        "outputId": "ab923233-b5c9-4953-afa0-461e909c6eb7"
      },
      "outputs": [
        {
          "name": "stdout",
          "output_type": "stream",
          "text": [
            "AxesSubplot(0.125,0.125;0.775x0.755)\n"
          ]
        },
        {
          "data": {
            "image/png": "[encoded data removed]",
            "text/plain": [
              "<Figure size 432x288 with 1 Axes>"
            ]
          },
          "metadata": {},
          "output_type": "display_data"
        }
      ],
      "source": [
        "print(k.table['Idade'].hist())"
      ]
    },
    {
      "cell_type": "code",
      "execution_count": 8,
      "metadata": {
        "colab": {
          "base_uri": "https://localhost:8080/",
          "height": 282
        },
        "id": "1B92YeiL_z4m",
        "outputId": "af95c131-0b1f-4ad1-a6ac-60da246d7e37"
      },
      "outputs": [
        {
          "name": "stdout",
          "output_type": "stream",
          "text": [
            "AxesSubplot(0.125,0.125;0.775x0.755)\n"
          ]
        },
        {
          "data": {
            "image/png": "[encoded data removed]",
            "text/plain": [
              "<Figure size 432x288 with 1 Axes>"
            ]
          },
          "metadata": {},
          "output_type": "display_data"
        }
      ],
      "source": [
        "print(k.table['Escolaridade'].hist())"
      ]
    },
    {
      "cell_type": "code",
      "execution_count": 9,
      "metadata": {
        "colab": {
          "base_uri": "https://localhost:8080/",
          "height": 282
        },
        "id": "iRN_eQ_4_z4m",
        "outputId": "108ed74e-dcc5-4300-bffe-9253891065f1"
      },
      "outputs": [
        {
          "name": "stdout",
          "output_type": "stream",
          "text": [
            "AxesSubplot(0.125,0.125;0.775x0.755)\n"
          ]
        },
        {
          "data": {
            "image/png": "[encoded data removed]",
            "text/plain": [
              "<Figure size 432x288 with 1 Axes>"
            ]
          },
          "metadata": {},
          "output_type": "display_data"
        }
      ],
      "source": [
        "print(k.table['Profissao'].hist())"
      ]
    }
  ],
  "metadata": {
    "colab": {
      "collapsed_sections": [],
      "include_colab_link": true,
      "name": "naive-bayes.ipynb",
      "provenance": []
    },
    "interpreter": {
      "hash": "c692ae8979e2f0e4d4b49b0d3fe00f3567ee3a38e630b66746c1f75a79ab892c"
    },
    "kernelspec": {
      "display_name": "Python 3.8.10 64-bit ('venv': venv)",
      "name": "python3"
    },
    "language_info": {
      "codemirror_mode": {
        "name": "ipython",
        "version": 3
      },
      "file_extension": ".py",
      "mimetype": "text/x-python",
      "name": "python",
      "nbconvert_exporter": "python",
      "pygments_lexer": "ipython3",
      "version": "3.8.3"
    },
    "orig_nbformat": 4
  },
  "nbformat": 4,
  "nbformat_minor": 0
}
