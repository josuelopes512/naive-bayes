{
  "nbformat": 4,
  "nbformat_minor": 0,
  "metadata": {
    "interpreter": {
      "hash": "96068ab639a04010ce0ebf4d92aa5fa1d95945955db043eb093ed651d9ac7c11"
    },
    "kernelspec": {
      "display_name": "Python 3.8.3 64-bit ('base': conda)",
      "name": "python3"
    },
    "language_info": {
      "codemirror_mode": {
        "name": "ipython",
        "version": 3
      },
      "file_extension": ".py",
      "mimetype": "text/x-python",
      "name": "python",
      "nbconvert_exporter": "python",
      "pygments_lexer": "ipython3",
      "version": "3.8.3"
    },
    "orig_nbformat": 4,
    "colab": {
      "name": "naive-bayes.ipynb",
      "provenance": [],
      "collapsed_sections": [],
      "include_colab_link": true
    }
  },
  "cells": [
    {
      "cell_type": "markdown",
      "metadata": {
        "id": "view-in-github",
        "colab_type": "text"
      },
      "source": [
        "<a href=\"https://colab.research.google.com/github/josuelopes512/naive-bayes/blob/master/naive_bayes.ipynb\" target=\"_parent\"><img src=\"https://colab.research.google.com/assets/colab-badge.svg\" alt=\"Open In Colab\"/></a>"
      ]
    },
    {
      "cell_type": "code",
      "metadata": {
        "id": "eGRD-c6u_z4b"
      },
      "source": [
        "import numpy as np\n",
        "import pandas as pd"
      ],
      "execution_count": 1,
      "outputs": []
    },
    {
      "cell_type": "code",
      "metadata": {
        "id": "Gs8cN2rS_z4g"
      },
      "source": [
        "class Bayes_Classifier:\n",
        "    def __init__(self, outlook, temp, humidity, windy, play_golf):\n",
        "        self.carrega_tabela(\"naive_bayes_classificador.csv\")\n",
        "        self.outlook = self.probability_select_class(outlook, 'Target', play_golf)[1]\n",
        "        self.temp = self.probability_select_class(temp, 'Target', play_golf)[1]\n",
        "        self.humidity = self.probability_select_class(humidity, 'Target', play_golf)[1]\n",
        "        self.windy = self.probability_select_class(windy, 'Target', play_golf)[1]\n",
        "        self.play_golf = self.calculate_prior('Target')[0][play_golf]\n",
        "\n",
        "    def carrega_tabela(self, tabela):\n",
        "        self.csv = pd.read_csv(tabela, sep=',')\n",
        "\n",
        "    def view_table(self):\n",
        "      return self.csv\n",
        "\n",
        "    def likehood(self, coluna):\n",
        "      tabela = self.csv\n",
        "      total_target_total = len(tabela[coluna])\n",
        "      labels = sorted(list(tabela[coluna].unique()))\n",
        "      likelihoodx = None\n",
        "      likelihoodx = [1]*len(labels)\n",
        "      return likelihoodx\n",
        "\n",
        "    # def probability_select(self, prob_nome_coluna, label, prob_target, value_target ):\n",
        "    #     tabela = self.csv\n",
        "    #     tabelax = tabela[tabela[prob_nome_coluna]==label]\n",
        "    #     k = tabelax[prob_target]\n",
        "    #     x = tabela[tabela[prob_target]==value_target]\n",
        "    #     calc = len(tabelax[k==value_target])/len(x) if len(tabelax[k==value_target]) != 0 else (len(tabelax[k==value_target]) + 1)/(len(x) + 3)\n",
        "    #     return (tabelax, calc, len(tabelax[k==value_target]), len(x))\n",
        "    \n",
        "    def probability_select_class(self, label, prob_target, value_target):\n",
        "        tabela = self.csv\n",
        "        prob_nome_coluna = None\n",
        "        for i in list(tabela.columns):\n",
        "          if label in sorted(list(tabela[i].unique())):\n",
        "            prob_nome_coluna = i\n",
        "        tabelax = tabela[tabela[prob_nome_coluna]==label]\n",
        "        k = tabelax[prob_target]\n",
        "        x = tabela[tabela[prob_target]==value_target]\n",
        "        calc = len(tabelax[k==value_target])/len(x) if len(tabelax[k==value_target]) != 0 else (len(tabelax[k==value_target]) + 1)/(len(x) + 3)\n",
        "        return (tabelax, calc, len(tabelax[k==value_target]), len(x))\n",
        "\n",
        "    def calculate_prior(self, Y):\n",
        "        tabela = self.csv\n",
        "        classes = sorted(list(tabela[Y].unique()))\n",
        "        new_dic = dict()\n",
        "        for i in classes:\n",
        "          new_dic.update({\n",
        "              i: len(tabela[tabela[Y]==i])/len(tabela)\n",
        "        })\n",
        "        return new_dic, tabela\n",
        "    \n",
        "    def result_probability(self):\n",
        "      print(\"Genero\", self.outlook)\n",
        "      print(\"Idade\", self.temp)\n",
        "      print(\"Escolaridade\", self.humidity)\n",
        "      print(\"Profissao\", self.windy)\n",
        "      print(\"Target\", self.play_golf)\n",
        "\n",
        "      return (self.outlook*self.temp*self.humidity*self.windy*self.play_golf)\n"
      ],
      "execution_count": 24,
      "outputs": []
    },
    {
      "cell_type": "code",
      "metadata": {
        "id": "SDvB2cbAM2tM"
      },
      "source": [
        "def calc_probability(genero, idade, escolaridade, profissao):\n",
        "  yes = Bayes_Classifier(genero, idade, escolaridade, profissao,1).result_probability()\n",
        "  print(\"TOTAL YES:\", yes)\n",
        "  print('\\n')\n",
        "  no = Bayes_Classifier(genero, idade, escolaridade, profissao,0).result_probability()\n",
        "  print(\"TOTAL NO:\", no)\n",
        "  print('\\n')\n",
        "  def prob(a, b):\n",
        "    return a/(b+a)\n",
        "  return \"YES: {}\".format(prob(yes, no)), \"NO: {}\".format(prob(no, yes))"
      ],
      "execution_count": 25,
      "outputs": []
    },
    {
      "cell_type": "code",
      "metadata": {
        "colab": {
          "base_uri": "https://localhost:8080/"
        },
        "id": "YdpdUdF8Ncy-",
        "outputId": "d422cc54-1feb-41d5-96fd-44dc9d03478f"
      },
      "source": [
        "print(calc_probability(\"F\",\"a - Ate 25 anos\",\"Fundamental\",\"b\"))"
      ],
      "execution_count": 26,
      "outputs": [
        {
          "output_type": "stream",
          "name": "stdout",
          "text": [
            "Genero 0.6036269430051814\n",
            "Idade 0.15025906735751296\n",
            "Escolaridade 0.4896373056994819\n",
            "Profissao 0.4430051813471503\n",
            "Target 0.772\n",
            "TOTAL YES: 0.015188326021062291\n",
            "\n",
            "\n",
            "Genero 0.5131578947368421\n",
            "Idade 0.40350877192982454\n",
            "Escolaridade 0.5394736842105263\n",
            "Profissao 0.35526315789473684\n",
            "Target 0.228\n",
            "TOTAL NO: 0.009048139306021287\n",
            "\n",
            "\n",
            "('YES: 0.6266724877612313', 'NO: 0.37332751223876864')\n"
          ]
        }
      ]
    },
    {
      "cell_type": "code",
      "metadata": {
        "id": "bEYIFQ3y_z4l",
        "colab": {
          "base_uri": "https://localhost:8080/",
          "height": 299
        },
        "outputId": "0ebe54ec-9e96-4adb-c4f3-fad81392e149"
      },
      "source": [
        "print(a.view_table().columns)\n",
        "print(a.csv['genero'].hist())"
      ],
      "execution_count": null,
      "outputs": [
        {
          "output_type": "stream",
          "name": "stdout",
          "text": [
            "Index(['genero', 'idade', 'escolaridade', 'profissao', 'target'], dtype='object')\n",
            "AxesSubplot(0.125,0.125;0.775x0.755)\n"
          ]
        },
        {
          "output_type": "display_data",
          "data": {
            "image/png": "[encoded data removed]",
            "text/plain": [
              "<Figure size 432x288 with 1 Axes>"
            ]
          },
          "metadata": {
            "needs_background": "light"
          }
        }
      ]
    },
    {
      "cell_type": "code",
      "metadata": {
        "id": "Gi9_DE08_z4l",
        "colab": {
          "base_uri": "https://localhost:8080/",
          "height": 282
        },
        "outputId": "ab923233-b5c9-4953-afa0-461e909c6eb7"
      },
      "source": [
        "print(a.csv['idade'].hist())"
      ],
      "execution_count": null,
      "outputs": [
        {
          "output_type": "stream",
          "name": "stdout",
          "text": [
            "AxesSubplot(0.125,0.125;0.775x0.755)\n"
          ]
        },
        {
          "output_type": "display_data",
          "data": {
            "image/png": "[encoded data removed]",
            "text/plain": [
              "<Figure size 432x288 with 1 Axes>"
            ]
          },
          "metadata": {
            "needs_background": "light"
          }
        }
      ]
    },
    {
      "cell_type": "code",
      "metadata": {
        "id": "1B92YeiL_z4m",
        "colab": {
          "base_uri": "https://localhost:8080/",
          "height": 282
        },
        "outputId": "af95c131-0b1f-4ad1-a6ac-60da246d7e37"
      },
      "source": [
        "print(a.csv['escolaridade'].hist())"
      ],
      "execution_count": null,
      "outputs": [
        {
          "output_type": "stream",
          "name": "stdout",
          "text": [
            "AxesSubplot(0.125,0.125;0.775x0.755)\n"
          ]
        },
        {
          "output_type": "display_data",
          "data": {
            "image/png": "[encoded data removed]",
            "text/plain": [
              "<Figure size 432x288 with 1 Axes>"
            ]
          },
          "metadata": {
            "needs_background": "light"
          }
        }
      ]
    },
    {
      "cell_type": "code",
      "metadata": {
        "id": "iRN_eQ_4_z4m",
        "colab": {
          "base_uri": "https://localhost:8080/",
          "height": 282
        },
        "outputId": "108ed74e-dcc5-4300-bffe-9253891065f1"
      },
      "source": [
        "print(a.csv['profissao'].hist())"
      ],
      "execution_count": null,
      "outputs": [
        {
          "output_type": "stream",
          "name": "stdout",
          "text": [
            "AxesSubplot(0.125,0.125;0.775x0.755)\n"
          ]
        },
        {
          "output_type": "display_data",
          "data": {
            "image/png": "[encoded data removed]",
            "text/plain": [
              "<Figure size 432x288 with 1 Axes>"
            ]
          },
          "metadata": {
            "needs_background": "light"
          }
        }
      ]
    }
  ]
}