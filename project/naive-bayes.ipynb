{
 "cells": [
  {
   "cell_type": "code",
   "execution_count": 1,
   "metadata": {},
   "outputs": [],
   "source": [
    "import numpy as np\n",
    "import pandas as pd"
   ]
  },
  {
   "cell_type": "code",
   "execution_count": 2,
   "metadata": {},
   "outputs": [],
   "source": [
    "class Bayes_Classifier:\n",
    "    def __init__(self, outlook, temp, humidity, windy, play_golf):\n",
    "        self.carrega_tabela(\"naive_bayes_classificador.csv\")\n",
    "        self.outlook = self.probability_select_class(outlook, 'Target', play_golf)[1]\n",
    "        self.temp = self.probability_select_class(temp, 'Target', play_golf)[1]\n",
    "        self.humidity = self.probability_select_class(humidity, 'Target', play_golf)[1]\n",
    "        self.windy = self.probability_select_class(windy, 'Target', play_golf)[1]\n",
    "        self.play_golf = self.calculate_prior('Target')[0][play_golf]\n",
    "\n",
    "    def carrega_tabela(self, tabela):\n",
    "        self.csv = pd.read_csv(tabela, sep=',')\n",
    "\n",
    "    def view_table(self):\n",
    "      return self.csv\n",
    "\n",
    "    def likehood(self, coluna):\n",
    "      tabela = self.csv\n",
    "      total_target_total = len(tabela[coluna])\n",
    "      labels = sorted(list(tabela[coluna].unique()))\n",
    "      likelihoodx = None\n",
    "      likelihoodx = [1]*len(labels)\n",
    "      return likelihoodx\n",
    "\n",
    "    def probability_select(self, prob_nome_coluna, label, prob_target, value_target ):\n",
    "        tabela = self.csv\n",
    "        tabelax = tabela[tabela[prob_nome_coluna]==label]\n",
    "        k = tabelax[prob_target]\n",
    "        x = tabela[tabela[prob_target]==value_target]\n",
    "        calc = len(tabelax[k==value_target])/len(x) if len(tabelax[k==value_target]) != 0 else 0\n",
    "        return (tabelax, calc, len(tabelax[k==value_target]), len(x))\n",
    "    \n",
    "    def probability_select_class(self, label, prob_target, value_target):\n",
    "        tabela = self.csv\n",
    "        prob_nome_coluna = None\n",
    "        for i in list(tabela.columns):\n",
    "          if label in sorted(list(tabela[i].unique())):\n",
    "            prob_nome_coluna = i\n",
    "        tabelax = tabela[tabela[prob_nome_coluna]==label]\n",
    "        k = tabelax[prob_target]\n",
    "        x = tabela[tabela[prob_target]==value_target]\n",
    "        calc = len(tabelax[k==value_target])/len(x) if len(tabelax[k==value_target]) != 0 else 0\n",
    "        return (tabelax, calc, len(tabelax[k==value_target]), len(x))\n",
    "\n",
    "    def calculate_prior(self, Y):\n",
    "        tabela = self.csv\n",
    "        classes = sorted(list(tabela[Y].unique()))\n",
    "        new_dic = dict()\n",
    "        for i in classes:\n",
    "          new_dic.update({i: len(tabela[tabela[Y]==i])/len(tabela)})\n",
    "        return new_dic, tabela\n",
    "    \n",
    "    def result_probability(self):\n",
    "      print(\"Genero\", self.outlook)\n",
    "      print(\"Idade\", self.temp)\n",
    "      print(\"Escolaridade\", self.humidity)\n",
    "      print(\"Profissao\", self.windy)\n",
    "      print(\"Target\", self.play_golf)\n",
    "\n",
    "      return (self.outlook*self.temp*self.humidity*self.windy*self.play_golf)\n"
   ]
  },
  {
   "cell_type": "code",
   "execution_count": 3,
   "metadata": {},
   "outputs": [
    {
     "name": "stdout",
     "output_type": "stream",
     "text": [
      "Genero 0.6036269430051814\n",
      "Idade 0.29404145077720206\n",
      "Escolaridade 0.4896373056994819\n",
      "Profissao 0.4430051813471503\n",
      "Target 0.772\n",
      "TOTAL 0.029721982817078794\n"
     ]
    }
   ],
   "source": [
    "a = Bayes_Classifier(\"F\",\"b - 26 a 35 anos\",\"Fundamental\",\"b\",1)\n",
    "print(\"TOTAL\", a.result_probability())"
   ]
  },
  {
   "cell_type": "code",
   "execution_count": 5,
   "metadata": {},
   "outputs": [
    {
     "name": "stdout",
     "output_type": "stream",
     "text": [
      "Index(['Genero', 'Idade', 'Escolaridade', 'Profissao', 'Target'], dtype='object')\n",
      "AxesSubplot(0.125,0.125;0.775x0.755)\n"
     ]
    },
    {
     "data": {
      "image/png": "[encoded data removed]",
      "text/plain": [
       "<Figure size 432x288 with 1 Axes>"
      ]
     },
     "metadata": {
      "needs_background": "light"
     },
     "output_type": "display_data"
    }
   ],
   "source": [
    "print(a.view_table().columns)\n",
    "print(a.csv['Genero'].hist())\n"
   ]
  },
  {
   "cell_type": "code",
   "execution_count": 6,
   "metadata": {},
   "outputs": [
    {
     "name": "stdout",
     "output_type": "stream",
     "text": [
      "AxesSubplot(0.125,0.125;0.775x0.755)\n"
     ]
    },
    {
     "data": {
      "image/png": "[encoded data removed]",
      "text/plain": [
       "<Figure size 432x288 with 1 Axes>"
      ]
     },
     "metadata": {
      "needs_background": "light"
     },
     "output_type": "display_data"
    }
   ],
   "source": [
    "print(a.csv['Idade'].hist())\n"
   ]
  },
  {
   "cell_type": "code",
   "execution_count": 9,
   "metadata": {},
   "outputs": [
    {
     "name": "stdout",
     "output_type": "stream",
     "text": [
      "AxesSubplot(0.125,0.125;0.775x0.755)\n"
     ]
    },
    {
     "data": {
      "image/png": "[encoded data removed]",
      "text/plain": [
       "<Figure size 432x288 with 1 Axes>"
      ]
     },
     "metadata": {
      "needs_background": "light"
     },
     "output_type": "display_data"
    }
   ],
   "source": [
    "print(a.csv['Escolaridade'].hist())\n"
   ]
  },
  {
   "cell_type": "code",
   "execution_count": 8,
   "metadata": {},
   "outputs": [
    {
     "name": "stdout",
     "output_type": "stream",
     "text": [
      "AxesSubplot(0.125,0.125;0.775x0.755)\n"
     ]
    },
    {
     "data": {
      "image/png": "[encoded data removed]",
      "text/plain": [
       "<Figure size 432x288 with 1 Axes>"
      ]
     },
     "metadata": {
      "needs_background": "light"
     },
     "output_type": "display_data"
    }
   ],
   "source": [
    "print(a.csv['Profissao'].hist())"
   ]
  }
 ],
 "metadata": {
  "interpreter": {
   "hash": "96068ab639a04010ce0ebf4d92aa5fa1d95945955db043eb093ed651d9ac7c11"
  },
  "kernelspec": {
   "display_name": "Python 3.8.3 64-bit ('base': conda)",
   "name": "python3"
  },
  "language_info": {
   "codemirror_mode": {
    "name": "ipython",
    "version": 3
   },
   "file_extension": ".py",
   "mimetype": "text/x-python",
   "name": "python",
   "nbconvert_exporter": "python",
   "pygments_lexer": "ipython3",
   "version": "3.8.3"
  },
  "orig_nbformat": 4
 },
 "nbformat": 4,
 "nbformat_minor": 2
}
